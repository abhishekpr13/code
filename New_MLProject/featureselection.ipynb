{
 "cells": [
  {
   "cell_type": "code",
   "execution_count": 28,
   "metadata": {},
   "outputs": [],
   "source": [
    "import pandas as pd\n",
    "import numpy as np\n",
    "import matplotlib.pyplot as plt\n",
    "import seaborn as sns\n",
    "%matplotlib inline "
   ]
  },
  {
   "cell_type": "code",
   "execution_count": 29,
   "metadata": {},
   "outputs": [],
   "source": [
    "df = pd.read_csv('Algerian_forest_fires_cleaned_dataset.csv')"
   ]
  },
  {
   "cell_type": "code",
   "execution_count": 30,
   "metadata": {},
   "outputs": [
    {
     "data": {
      "text/html": [
       "<div>\n",
       "<style scoped>\n",
       "    .dataframe tbody tr th:only-of-type {\n",
       "        vertical-align: middle;\n",
       "    }\n",
       "\n",
       "    .dataframe tbody tr th {\n",
       "        vertical-align: top;\n",
       "    }\n",
       "\n",
       "    .dataframe thead th {\n",
       "        text-align: right;\n",
       "    }\n",
       "</style>\n",
       "<table border=\"1\" class=\"dataframe\">\n",
       "  <thead>\n",
       "    <tr style=\"text-align: right;\">\n",
       "      <th></th>\n",
       "      <th>day</th>\n",
       "      <th>month</th>\n",
       "      <th>year</th>\n",
       "      <th>Temperature</th>\n",
       "      <th>RH</th>\n",
       "      <th>Ws</th>\n",
       "      <th>Rain</th>\n",
       "      <th>FFMC</th>\n",
       "      <th>DMC</th>\n",
       "      <th>DC</th>\n",
       "      <th>ISI</th>\n",
       "      <th>BUI</th>\n",
       "      <th>FWI</th>\n",
       "      <th>Classes</th>\n",
       "      <th>Region</th>\n",
       "    </tr>\n",
       "  </thead>\n",
       "  <tbody>\n",
       "    <tr>\n",
       "      <th>0</th>\n",
       "      <td>1</td>\n",
       "      <td>6</td>\n",
       "      <td>2012</td>\n",
       "      <td>29</td>\n",
       "      <td>57</td>\n",
       "      <td>18</td>\n",
       "      <td>0.0</td>\n",
       "      <td>65.7</td>\n",
       "      <td>3.4</td>\n",
       "      <td>7.6</td>\n",
       "      <td>1.3</td>\n",
       "      <td>3.4</td>\n",
       "      <td>0.5</td>\n",
       "      <td>not fire</td>\n",
       "      <td>0</td>\n",
       "    </tr>\n",
       "    <tr>\n",
       "      <th>1</th>\n",
       "      <td>2</td>\n",
       "      <td>6</td>\n",
       "      <td>2012</td>\n",
       "      <td>29</td>\n",
       "      <td>61</td>\n",
       "      <td>13</td>\n",
       "      <td>1.3</td>\n",
       "      <td>64.4</td>\n",
       "      <td>4.1</td>\n",
       "      <td>7.6</td>\n",
       "      <td>1.0</td>\n",
       "      <td>3.9</td>\n",
       "      <td>0.4</td>\n",
       "      <td>not fire</td>\n",
       "      <td>0</td>\n",
       "    </tr>\n",
       "    <tr>\n",
       "      <th>2</th>\n",
       "      <td>3</td>\n",
       "      <td>6</td>\n",
       "      <td>2012</td>\n",
       "      <td>26</td>\n",
       "      <td>82</td>\n",
       "      <td>22</td>\n",
       "      <td>13.1</td>\n",
       "      <td>47.1</td>\n",
       "      <td>2.5</td>\n",
       "      <td>7.1</td>\n",
       "      <td>0.3</td>\n",
       "      <td>2.7</td>\n",
       "      <td>0.1</td>\n",
       "      <td>not fire</td>\n",
       "      <td>0</td>\n",
       "    </tr>\n",
       "    <tr>\n",
       "      <th>3</th>\n",
       "      <td>4</td>\n",
       "      <td>6</td>\n",
       "      <td>2012</td>\n",
       "      <td>25</td>\n",
       "      <td>89</td>\n",
       "      <td>13</td>\n",
       "      <td>2.5</td>\n",
       "      <td>28.6</td>\n",
       "      <td>1.3</td>\n",
       "      <td>6.9</td>\n",
       "      <td>0.0</td>\n",
       "      <td>1.7</td>\n",
       "      <td>0.0</td>\n",
       "      <td>not fire</td>\n",
       "      <td>0</td>\n",
       "    </tr>\n",
       "    <tr>\n",
       "      <th>4</th>\n",
       "      <td>5</td>\n",
       "      <td>6</td>\n",
       "      <td>2012</td>\n",
       "      <td>27</td>\n",
       "      <td>77</td>\n",
       "      <td>16</td>\n",
       "      <td>0.0</td>\n",
       "      <td>64.8</td>\n",
       "      <td>3.0</td>\n",
       "      <td>14.2</td>\n",
       "      <td>1.2</td>\n",
       "      <td>3.9</td>\n",
       "      <td>0.5</td>\n",
       "      <td>not fire</td>\n",
       "      <td>0</td>\n",
       "    </tr>\n",
       "  </tbody>\n",
       "</table>\n",
       "</div>"
      ],
      "text/plain": [
       "   day  month  year  Temperature  RH  Ws  Rain  FFMC  DMC    DC  ISI  BUI  \\\n",
       "0    1      6  2012           29  57  18   0.0  65.7  3.4   7.6  1.3  3.4   \n",
       "1    2      6  2012           29  61  13   1.3  64.4  4.1   7.6  1.0  3.9   \n",
       "2    3      6  2012           26  82  22  13.1  47.1  2.5   7.1  0.3  2.7   \n",
       "3    4      6  2012           25  89  13   2.5  28.6  1.3   6.9  0.0  1.7   \n",
       "4    5      6  2012           27  77  16   0.0  64.8  3.0  14.2  1.2  3.9   \n",
       "\n",
       "   FWI      Classes  Region  \n",
       "0  0.5  not fire          0  \n",
       "1  0.4  not fire          0  \n",
       "2  0.1  not fire          0  \n",
       "3  0.0  not fire          0  \n",
       "4  0.5  not fire          0  "
      ]
     },
     "execution_count": 30,
     "metadata": {},
     "output_type": "execute_result"
    }
   ],
   "source": [
    "df.head()"
   ]
  },
  {
   "cell_type": "code",
   "execution_count": 31,
   "metadata": {},
   "outputs": [
    {
     "data": {
      "text/plain": [
       "Index(['day', 'month', 'year', 'Temperature', 'RH', 'Ws', 'Rain', 'FFMC',\n",
       "       'DMC', 'DC', 'ISI', 'BUI', 'FWI', 'Classes', 'Region'],\n",
       "      dtype='object')"
      ]
     },
     "execution_count": 31,
     "metadata": {},
     "output_type": "execute_result"
    }
   ],
   "source": [
    "df.columns"
   ]
  },
  {
   "cell_type": "code",
   "execution_count": 32,
   "metadata": {},
   "outputs": [
    {
     "data": {
      "text/html": [
       "<div>\n",
       "<style scoped>\n",
       "    .dataframe tbody tr th:only-of-type {\n",
       "        vertical-align: middle;\n",
       "    }\n",
       "\n",
       "    .dataframe tbody tr th {\n",
       "        vertical-align: top;\n",
       "    }\n",
       "\n",
       "    .dataframe thead th {\n",
       "        text-align: right;\n",
       "    }\n",
       "</style>\n",
       "<table border=\"1\" class=\"dataframe\">\n",
       "  <thead>\n",
       "    <tr style=\"text-align: right;\">\n",
       "      <th></th>\n",
       "      <th>Temperature</th>\n",
       "      <th>RH</th>\n",
       "      <th>Ws</th>\n",
       "      <th>Rain</th>\n",
       "      <th>FFMC</th>\n",
       "      <th>DMC</th>\n",
       "      <th>DC</th>\n",
       "      <th>ISI</th>\n",
       "      <th>BUI</th>\n",
       "      <th>FWI</th>\n",
       "      <th>Classes</th>\n",
       "      <th>Region</th>\n",
       "    </tr>\n",
       "  </thead>\n",
       "  <tbody>\n",
       "    <tr>\n",
       "      <th>0</th>\n",
       "      <td>29</td>\n",
       "      <td>57</td>\n",
       "      <td>18</td>\n",
       "      <td>0.0</td>\n",
       "      <td>65.7</td>\n",
       "      <td>3.4</td>\n",
       "      <td>7.6</td>\n",
       "      <td>1.3</td>\n",
       "      <td>3.4</td>\n",
       "      <td>0.5</td>\n",
       "      <td>not fire</td>\n",
       "      <td>0</td>\n",
       "    </tr>\n",
       "    <tr>\n",
       "      <th>1</th>\n",
       "      <td>29</td>\n",
       "      <td>61</td>\n",
       "      <td>13</td>\n",
       "      <td>1.3</td>\n",
       "      <td>64.4</td>\n",
       "      <td>4.1</td>\n",
       "      <td>7.6</td>\n",
       "      <td>1.0</td>\n",
       "      <td>3.9</td>\n",
       "      <td>0.4</td>\n",
       "      <td>not fire</td>\n",
       "      <td>0</td>\n",
       "    </tr>\n",
       "    <tr>\n",
       "      <th>2</th>\n",
       "      <td>26</td>\n",
       "      <td>82</td>\n",
       "      <td>22</td>\n",
       "      <td>13.1</td>\n",
       "      <td>47.1</td>\n",
       "      <td>2.5</td>\n",
       "      <td>7.1</td>\n",
       "      <td>0.3</td>\n",
       "      <td>2.7</td>\n",
       "      <td>0.1</td>\n",
       "      <td>not fire</td>\n",
       "      <td>0</td>\n",
       "    </tr>\n",
       "    <tr>\n",
       "      <th>3</th>\n",
       "      <td>25</td>\n",
       "      <td>89</td>\n",
       "      <td>13</td>\n",
       "      <td>2.5</td>\n",
       "      <td>28.6</td>\n",
       "      <td>1.3</td>\n",
       "      <td>6.9</td>\n",
       "      <td>0.0</td>\n",
       "      <td>1.7</td>\n",
       "      <td>0.0</td>\n",
       "      <td>not fire</td>\n",
       "      <td>0</td>\n",
       "    </tr>\n",
       "    <tr>\n",
       "      <th>4</th>\n",
       "      <td>27</td>\n",
       "      <td>77</td>\n",
       "      <td>16</td>\n",
       "      <td>0.0</td>\n",
       "      <td>64.8</td>\n",
       "      <td>3.0</td>\n",
       "      <td>14.2</td>\n",
       "      <td>1.2</td>\n",
       "      <td>3.9</td>\n",
       "      <td>0.5</td>\n",
       "      <td>not fire</td>\n",
       "      <td>0</td>\n",
       "    </tr>\n",
       "    <tr>\n",
       "      <th>...</th>\n",
       "      <td>...</td>\n",
       "      <td>...</td>\n",
       "      <td>...</td>\n",
       "      <td>...</td>\n",
       "      <td>...</td>\n",
       "      <td>...</td>\n",
       "      <td>...</td>\n",
       "      <td>...</td>\n",
       "      <td>...</td>\n",
       "      <td>...</td>\n",
       "      <td>...</td>\n",
       "      <td>...</td>\n",
       "    </tr>\n",
       "    <tr>\n",
       "      <th>239</th>\n",
       "      <td>30</td>\n",
       "      <td>65</td>\n",
       "      <td>14</td>\n",
       "      <td>0.0</td>\n",
       "      <td>85.4</td>\n",
       "      <td>16.0</td>\n",
       "      <td>44.5</td>\n",
       "      <td>4.5</td>\n",
       "      <td>16.9</td>\n",
       "      <td>6.5</td>\n",
       "      <td>fire</td>\n",
       "      <td>1</td>\n",
       "    </tr>\n",
       "    <tr>\n",
       "      <th>240</th>\n",
       "      <td>28</td>\n",
       "      <td>87</td>\n",
       "      <td>15</td>\n",
       "      <td>4.4</td>\n",
       "      <td>41.1</td>\n",
       "      <td>6.5</td>\n",
       "      <td>8.0</td>\n",
       "      <td>0.1</td>\n",
       "      <td>6.2</td>\n",
       "      <td>0.0</td>\n",
       "      <td>not fire</td>\n",
       "      <td>1</td>\n",
       "    </tr>\n",
       "    <tr>\n",
       "      <th>241</th>\n",
       "      <td>27</td>\n",
       "      <td>87</td>\n",
       "      <td>29</td>\n",
       "      <td>0.5</td>\n",
       "      <td>45.9</td>\n",
       "      <td>3.5</td>\n",
       "      <td>7.9</td>\n",
       "      <td>0.4</td>\n",
       "      <td>3.4</td>\n",
       "      <td>0.2</td>\n",
       "      <td>not fire</td>\n",
       "      <td>1</td>\n",
       "    </tr>\n",
       "    <tr>\n",
       "      <th>242</th>\n",
       "      <td>24</td>\n",
       "      <td>54</td>\n",
       "      <td>18</td>\n",
       "      <td>0.1</td>\n",
       "      <td>79.7</td>\n",
       "      <td>4.3</td>\n",
       "      <td>15.2</td>\n",
       "      <td>1.7</td>\n",
       "      <td>5.1</td>\n",
       "      <td>0.7</td>\n",
       "      <td>not fire</td>\n",
       "      <td>1</td>\n",
       "    </tr>\n",
       "    <tr>\n",
       "      <th>243</th>\n",
       "      <td>24</td>\n",
       "      <td>64</td>\n",
       "      <td>15</td>\n",
       "      <td>0.2</td>\n",
       "      <td>67.3</td>\n",
       "      <td>3.8</td>\n",
       "      <td>16.5</td>\n",
       "      <td>1.2</td>\n",
       "      <td>4.8</td>\n",
       "      <td>0.5</td>\n",
       "      <td>not fire</td>\n",
       "      <td>1</td>\n",
       "    </tr>\n",
       "  </tbody>\n",
       "</table>\n",
       "<p>244 rows × 12 columns</p>\n",
       "</div>"
      ],
      "text/plain": [
       "     Temperature  RH  Ws  Rain  FFMC   DMC    DC  ISI   BUI  FWI  \\\n",
       "0             29  57  18   0.0  65.7   3.4   7.6  1.3   3.4  0.5   \n",
       "1             29  61  13   1.3  64.4   4.1   7.6  1.0   3.9  0.4   \n",
       "2             26  82  22  13.1  47.1   2.5   7.1  0.3   2.7  0.1   \n",
       "3             25  89  13   2.5  28.6   1.3   6.9  0.0   1.7  0.0   \n",
       "4             27  77  16   0.0  64.8   3.0  14.2  1.2   3.9  0.5   \n",
       "..           ...  ..  ..   ...   ...   ...   ...  ...   ...  ...   \n",
       "239           30  65  14   0.0  85.4  16.0  44.5  4.5  16.9  6.5   \n",
       "240           28  87  15   4.4  41.1   6.5   8.0  0.1   6.2  0.0   \n",
       "241           27  87  29   0.5  45.9   3.5   7.9  0.4   3.4  0.2   \n",
       "242           24  54  18   0.1  79.7   4.3  15.2  1.7   5.1  0.7   \n",
       "243           24  64  15   0.2  67.3   3.8  16.5  1.2   4.8  0.5   \n",
       "\n",
       "          Classes  Region  \n",
       "0     not fire          0  \n",
       "1     not fire          0  \n",
       "2     not fire          0  \n",
       "3     not fire          0  \n",
       "4     not fire          0  \n",
       "..            ...     ...  \n",
       "239       fire          1  \n",
       "240   not fire          1  \n",
       "241   not fire          1  \n",
       "242   not fire          1  \n",
       "243  not fire           1  \n",
       "\n",
       "[244 rows x 12 columns]"
      ]
     },
     "execution_count": 32,
     "metadata": {},
     "output_type": "execute_result"
    }
   ],
   "source": [
    "##drop month day and year \n",
    "df.drop(['day','month','year'],axis=1)"
   ]
  },
  {
   "cell_type": "code",
   "execution_count": 34,
   "metadata": {},
   "outputs": [
    {
     "data": {
      "text/plain": [
       "Classes\n",
       "fire             131\n",
       "not fire         101\n",
       "fire               4\n",
       "fire               2\n",
       "not fire           2\n",
       "not fire           1\n",
       "Classes            1\n",
       "not fire           1\n",
       "not fire           1\n",
       "Name: count, dtype: int64"
      ]
     },
     "execution_count": 34,
     "metadata": {},
     "output_type": "execute_result"
    }
   ],
   "source": [
    "df['Classes'].value_counts()"
   ]
  },
  {
   "cell_type": "code",
   "execution_count": 35,
   "metadata": {},
   "outputs": [],
   "source": [
    "#encoding \n",
    "df['Classes'] = np.where(df['Classes'].str.contains(\"not fire\"),0,1)"
   ]
  },
  {
   "cell_type": "code",
   "execution_count": 36,
   "metadata": {},
   "outputs": [
    {
     "data": {
      "text/html": [
       "<div>\n",
       "<style scoped>\n",
       "    .dataframe tbody tr th:only-of-type {\n",
       "        vertical-align: middle;\n",
       "    }\n",
       "\n",
       "    .dataframe tbody tr th {\n",
       "        vertical-align: top;\n",
       "    }\n",
       "\n",
       "    .dataframe thead th {\n",
       "        text-align: right;\n",
       "    }\n",
       "</style>\n",
       "<table border=\"1\" class=\"dataframe\">\n",
       "  <thead>\n",
       "    <tr style=\"text-align: right;\">\n",
       "      <th></th>\n",
       "      <th>day</th>\n",
       "      <th>month</th>\n",
       "      <th>year</th>\n",
       "      <th>Temperature</th>\n",
       "      <th>RH</th>\n",
       "      <th>Ws</th>\n",
       "      <th>Rain</th>\n",
       "      <th>FFMC</th>\n",
       "      <th>DMC</th>\n",
       "      <th>DC</th>\n",
       "      <th>ISI</th>\n",
       "      <th>BUI</th>\n",
       "      <th>FWI</th>\n",
       "      <th>Classes</th>\n",
       "      <th>Region</th>\n",
       "    </tr>\n",
       "  </thead>\n",
       "  <tbody>\n",
       "    <tr>\n",
       "      <th>0</th>\n",
       "      <td>1</td>\n",
       "      <td>6</td>\n",
       "      <td>2012</td>\n",
       "      <td>29</td>\n",
       "      <td>57</td>\n",
       "      <td>18</td>\n",
       "      <td>0.0</td>\n",
       "      <td>65.7</td>\n",
       "      <td>3.4</td>\n",
       "      <td>7.6</td>\n",
       "      <td>1.3</td>\n",
       "      <td>3.4</td>\n",
       "      <td>0.5</td>\n",
       "      <td>0</td>\n",
       "      <td>0</td>\n",
       "    </tr>\n",
       "    <tr>\n",
       "      <th>1</th>\n",
       "      <td>2</td>\n",
       "      <td>6</td>\n",
       "      <td>2012</td>\n",
       "      <td>29</td>\n",
       "      <td>61</td>\n",
       "      <td>13</td>\n",
       "      <td>1.3</td>\n",
       "      <td>64.4</td>\n",
       "      <td>4.1</td>\n",
       "      <td>7.6</td>\n",
       "      <td>1.0</td>\n",
       "      <td>3.9</td>\n",
       "      <td>0.4</td>\n",
       "      <td>0</td>\n",
       "      <td>0</td>\n",
       "    </tr>\n",
       "    <tr>\n",
       "      <th>2</th>\n",
       "      <td>3</td>\n",
       "      <td>6</td>\n",
       "      <td>2012</td>\n",
       "      <td>26</td>\n",
       "      <td>82</td>\n",
       "      <td>22</td>\n",
       "      <td>13.1</td>\n",
       "      <td>47.1</td>\n",
       "      <td>2.5</td>\n",
       "      <td>7.1</td>\n",
       "      <td>0.3</td>\n",
       "      <td>2.7</td>\n",
       "      <td>0.1</td>\n",
       "      <td>0</td>\n",
       "      <td>0</td>\n",
       "    </tr>\n",
       "    <tr>\n",
       "      <th>3</th>\n",
       "      <td>4</td>\n",
       "      <td>6</td>\n",
       "      <td>2012</td>\n",
       "      <td>25</td>\n",
       "      <td>89</td>\n",
       "      <td>13</td>\n",
       "      <td>2.5</td>\n",
       "      <td>28.6</td>\n",
       "      <td>1.3</td>\n",
       "      <td>6.9</td>\n",
       "      <td>0.0</td>\n",
       "      <td>1.7</td>\n",
       "      <td>0.0</td>\n",
       "      <td>0</td>\n",
       "      <td>0</td>\n",
       "    </tr>\n",
       "    <tr>\n",
       "      <th>4</th>\n",
       "      <td>5</td>\n",
       "      <td>6</td>\n",
       "      <td>2012</td>\n",
       "      <td>27</td>\n",
       "      <td>77</td>\n",
       "      <td>16</td>\n",
       "      <td>0.0</td>\n",
       "      <td>64.8</td>\n",
       "      <td>3.0</td>\n",
       "      <td>14.2</td>\n",
       "      <td>1.2</td>\n",
       "      <td>3.9</td>\n",
       "      <td>0.5</td>\n",
       "      <td>0</td>\n",
       "      <td>0</td>\n",
       "    </tr>\n",
       "  </tbody>\n",
       "</table>\n",
       "</div>"
      ],
      "text/plain": [
       "   day  month  year  Temperature  RH  Ws  Rain  FFMC  DMC    DC  ISI  BUI  \\\n",
       "0    1      6  2012           29  57  18   0.0  65.7  3.4   7.6  1.3  3.4   \n",
       "1    2      6  2012           29  61  13   1.3  64.4  4.1   7.6  1.0  3.9   \n",
       "2    3      6  2012           26  82  22  13.1  47.1  2.5   7.1  0.3  2.7   \n",
       "3    4      6  2012           25  89  13   2.5  28.6  1.3   6.9  0.0  1.7   \n",
       "4    5      6  2012           27  77  16   0.0  64.8  3.0  14.2  1.2  3.9   \n",
       "\n",
       "   FWI  Classes  Region  \n",
       "0  0.5        0       0  \n",
       "1  0.4        0       0  \n",
       "2  0.1        0       0  \n",
       "3  0.0        0       0  \n",
       "4  0.5        0       0  "
      ]
     },
     "execution_count": 36,
     "metadata": {},
     "output_type": "execute_result"
    }
   ],
   "source": [
    "df.head()"
   ]
  },
  {
   "cell_type": "code",
   "execution_count": 21,
   "metadata": {},
   "outputs": [
    {
     "data": {
      "text/plain": [
       "Classes\n",
       "1    138\n",
       "0    106\n",
       "Name: count, dtype: int64"
      ]
     },
     "execution_count": 21,
     "metadata": {},
     "output_type": "execute_result"
    }
   ],
   "source": [
    "df['Classes'].value_counts()"
   ]
  },
  {
   "cell_type": "code",
   "execution_count": 37,
   "metadata": {},
   "outputs": [],
   "source": [
    "#Independent and dependent feature\n",
    "df.drop(['day', 'month', 'year'], axis=1, inplace=True)\n",
    "X = df.drop('FWI',axis=1)\n",
    "y = df['FWI']"
   ]
  },
  {
   "cell_type": "code",
   "execution_count": 38,
   "metadata": {},
   "outputs": [
    {
     "data": {
      "text/html": [
       "<div>\n",
       "<style scoped>\n",
       "    .dataframe tbody tr th:only-of-type {\n",
       "        vertical-align: middle;\n",
       "    }\n",
       "\n",
       "    .dataframe tbody tr th {\n",
       "        vertical-align: top;\n",
       "    }\n",
       "\n",
       "    .dataframe thead th {\n",
       "        text-align: right;\n",
       "    }\n",
       "</style>\n",
       "<table border=\"1\" class=\"dataframe\">\n",
       "  <thead>\n",
       "    <tr style=\"text-align: right;\">\n",
       "      <th></th>\n",
       "      <th>Temperature</th>\n",
       "      <th>RH</th>\n",
       "      <th>Ws</th>\n",
       "      <th>Rain</th>\n",
       "      <th>FFMC</th>\n",
       "      <th>DMC</th>\n",
       "      <th>DC</th>\n",
       "      <th>ISI</th>\n",
       "      <th>BUI</th>\n",
       "      <th>Classes</th>\n",
       "      <th>Region</th>\n",
       "    </tr>\n",
       "  </thead>\n",
       "  <tbody>\n",
       "    <tr>\n",
       "      <th>0</th>\n",
       "      <td>29</td>\n",
       "      <td>57</td>\n",
       "      <td>18</td>\n",
       "      <td>0.0</td>\n",
       "      <td>65.7</td>\n",
       "      <td>3.4</td>\n",
       "      <td>7.6</td>\n",
       "      <td>1.3</td>\n",
       "      <td>3.4</td>\n",
       "      <td>0</td>\n",
       "      <td>0</td>\n",
       "    </tr>\n",
       "    <tr>\n",
       "      <th>1</th>\n",
       "      <td>29</td>\n",
       "      <td>61</td>\n",
       "      <td>13</td>\n",
       "      <td>1.3</td>\n",
       "      <td>64.4</td>\n",
       "      <td>4.1</td>\n",
       "      <td>7.6</td>\n",
       "      <td>1.0</td>\n",
       "      <td>3.9</td>\n",
       "      <td>0</td>\n",
       "      <td>0</td>\n",
       "    </tr>\n",
       "    <tr>\n",
       "      <th>2</th>\n",
       "      <td>26</td>\n",
       "      <td>82</td>\n",
       "      <td>22</td>\n",
       "      <td>13.1</td>\n",
       "      <td>47.1</td>\n",
       "      <td>2.5</td>\n",
       "      <td>7.1</td>\n",
       "      <td>0.3</td>\n",
       "      <td>2.7</td>\n",
       "      <td>0</td>\n",
       "      <td>0</td>\n",
       "    </tr>\n",
       "    <tr>\n",
       "      <th>3</th>\n",
       "      <td>25</td>\n",
       "      <td>89</td>\n",
       "      <td>13</td>\n",
       "      <td>2.5</td>\n",
       "      <td>28.6</td>\n",
       "      <td>1.3</td>\n",
       "      <td>6.9</td>\n",
       "      <td>0.0</td>\n",
       "      <td>1.7</td>\n",
       "      <td>0</td>\n",
       "      <td>0</td>\n",
       "    </tr>\n",
       "    <tr>\n",
       "      <th>4</th>\n",
       "      <td>27</td>\n",
       "      <td>77</td>\n",
       "      <td>16</td>\n",
       "      <td>0.0</td>\n",
       "      <td>64.8</td>\n",
       "      <td>3.0</td>\n",
       "      <td>14.2</td>\n",
       "      <td>1.2</td>\n",
       "      <td>3.9</td>\n",
       "      <td>0</td>\n",
       "      <td>0</td>\n",
       "    </tr>\n",
       "  </tbody>\n",
       "</table>\n",
       "</div>"
      ],
      "text/plain": [
       "   Temperature  RH  Ws  Rain  FFMC  DMC    DC  ISI  BUI  Classes  Region\n",
       "0           29  57  18   0.0  65.7  3.4   7.6  1.3  3.4        0       0\n",
       "1           29  61  13   1.3  64.4  4.1   7.6  1.0  3.9        0       0\n",
       "2           26  82  22  13.1  47.1  2.5   7.1  0.3  2.7        0       0\n",
       "3           25  89  13   2.5  28.6  1.3   6.9  0.0  1.7        0       0\n",
       "4           27  77  16   0.0  64.8  3.0  14.2  1.2  3.9        0       0"
      ]
     },
     "execution_count": 38,
     "metadata": {},
     "output_type": "execute_result"
    }
   ],
   "source": [
    "X.head()"
   ]
  },
  {
   "cell_type": "code",
   "execution_count": 39,
   "metadata": {},
   "outputs": [
    {
     "data": {
      "text/plain": [
       "0      0.5\n",
       "1      0.4\n",
       "2      0.1\n",
       "3      0.0\n",
       "4      0.5\n",
       "      ... \n",
       "239    6.5\n",
       "240    0.0\n",
       "241    0.2\n",
       "242    0.7\n",
       "243    0.5\n",
       "Name: FWI, Length: 244, dtype: float64"
      ]
     },
     "execution_count": 39,
     "metadata": {},
     "output_type": "execute_result"
    }
   ],
   "source": [
    "y"
   ]
  },
  {
   "cell_type": "code",
   "execution_count": 40,
   "metadata": {},
   "outputs": [],
   "source": [
    "#Train test split \n",
    "from sklearn.model_selection import train_test_split\n",
    "\n",
    "X_train, X_test, y_train, y_test = train_test_split(X,y,test_size=0.25,random_state=42)"
   ]
  },
  {
   "cell_type": "code",
   "execution_count": 41,
   "metadata": {},
   "outputs": [
    {
     "data": {
      "text/plain": [
       "((183, 11), (61, 11))"
      ]
     },
     "execution_count": 41,
     "metadata": {},
     "output_type": "execute_result"
    }
   ],
   "source": [
    "X_train.shape, X_test.shape"
   ]
  },
  {
   "cell_type": "code",
   "execution_count": 42,
   "metadata": {},
   "outputs": [
    {
     "data": {
      "text/html": [
       "<div>\n",
       "<style scoped>\n",
       "    .dataframe tbody tr th:only-of-type {\n",
       "        vertical-align: middle;\n",
       "    }\n",
       "\n",
       "    .dataframe tbody tr th {\n",
       "        vertical-align: top;\n",
       "    }\n",
       "\n",
       "    .dataframe thead th {\n",
       "        text-align: right;\n",
       "    }\n",
       "</style>\n",
       "<table border=\"1\" class=\"dataframe\">\n",
       "  <thead>\n",
       "    <tr style=\"text-align: right;\">\n",
       "      <th></th>\n",
       "      <th>Temperature</th>\n",
       "      <th>RH</th>\n",
       "      <th>Ws</th>\n",
       "      <th>Rain</th>\n",
       "      <th>FFMC</th>\n",
       "      <th>DMC</th>\n",
       "      <th>DC</th>\n",
       "      <th>ISI</th>\n",
       "      <th>BUI</th>\n",
       "      <th>Classes</th>\n",
       "      <th>Region</th>\n",
       "    </tr>\n",
       "  </thead>\n",
       "  <tbody>\n",
       "    <tr>\n",
       "      <th>Temperature</th>\n",
       "      <td>1.000000</td>\n",
       "      <td>-0.624783</td>\n",
       "      <td>-0.378234</td>\n",
       "      <td>-0.229281</td>\n",
       "      <td>0.588456</td>\n",
       "      <td>0.481973</td>\n",
       "      <td>0.360609</td>\n",
       "      <td>0.603038</td>\n",
       "      <td>0.451394</td>\n",
       "      <td>0.533743</td>\n",
       "      <td>0.335827</td>\n",
       "    </tr>\n",
       "    <tr>\n",
       "      <th>RH</th>\n",
       "      <td>-0.624783</td>\n",
       "      <td>1.000000</td>\n",
       "      <td>0.269477</td>\n",
       "      <td>0.150634</td>\n",
       "      <td>-0.659965</td>\n",
       "      <td>-0.448556</td>\n",
       "      <td>-0.256203</td>\n",
       "      <td>-0.659410</td>\n",
       "      <td>-0.384972</td>\n",
       "      <td>-0.403462</td>\n",
       "      <td>-0.417689</td>\n",
       "    </tr>\n",
       "    <tr>\n",
       "      <th>Ws</th>\n",
       "      <td>-0.378234</td>\n",
       "      <td>0.269477</td>\n",
       "      <td>1.000000</td>\n",
       "      <td>-0.074499</td>\n",
       "      <td>-0.178704</td>\n",
       "      <td>-0.000262</td>\n",
       "      <td>0.068924</td>\n",
       "      <td>-0.022251</td>\n",
       "      <td>0.023039</td>\n",
       "      <td>-0.056352</td>\n",
       "      <td>-0.045715</td>\n",
       "    </tr>\n",
       "    <tr>\n",
       "      <th>Rain</th>\n",
       "      <td>-0.229281</td>\n",
       "      <td>0.150634</td>\n",
       "      <td>-0.074499</td>\n",
       "      <td>1.000000</td>\n",
       "      <td>-0.532842</td>\n",
       "      <td>-0.369544</td>\n",
       "      <td>-0.370496</td>\n",
       "      <td>-0.413393</td>\n",
       "      <td>-0.380291</td>\n",
       "      <td>-0.490496</td>\n",
       "      <td>0.201667</td>\n",
       "    </tr>\n",
       "    <tr>\n",
       "      <th>FFMC</th>\n",
       "      <td>0.588456</td>\n",
       "      <td>-0.659965</td>\n",
       "      <td>-0.178704</td>\n",
       "      <td>-0.532842</td>\n",
       "      <td>1.000000</td>\n",
       "      <td>0.627707</td>\n",
       "      <td>0.521588</td>\n",
       "      <td>0.726708</td>\n",
       "      <td>0.608848</td>\n",
       "      <td>0.745355</td>\n",
       "      <td>0.141868</td>\n",
       "    </tr>\n",
       "    <tr>\n",
       "      <th>DMC</th>\n",
       "      <td>0.481973</td>\n",
       "      <td>-0.448556</td>\n",
       "      <td>-0.000262</td>\n",
       "      <td>-0.369544</td>\n",
       "      <td>0.627707</td>\n",
       "      <td>1.000000</td>\n",
       "      <td>0.870887</td>\n",
       "      <td>0.762184</td>\n",
       "      <td>0.983223</td>\n",
       "      <td>0.634162</td>\n",
       "      <td>0.154087</td>\n",
       "    </tr>\n",
       "    <tr>\n",
       "      <th>DC</th>\n",
       "      <td>0.360609</td>\n",
       "      <td>-0.256203</td>\n",
       "      <td>0.068924</td>\n",
       "      <td>-0.370496</td>\n",
       "      <td>0.521588</td>\n",
       "      <td>0.870887</td>\n",
       "      <td>1.000000</td>\n",
       "      <td>0.540966</td>\n",
       "      <td>0.943997</td>\n",
       "      <td>0.590418</td>\n",
       "      <td>-0.099772</td>\n",
       "    </tr>\n",
       "    <tr>\n",
       "      <th>ISI</th>\n",
       "      <td>0.603038</td>\n",
       "      <td>-0.659410</td>\n",
       "      <td>-0.022251</td>\n",
       "      <td>-0.413393</td>\n",
       "      <td>0.726708</td>\n",
       "      <td>0.762184</td>\n",
       "      <td>0.540966</td>\n",
       "      <td>1.000000</td>\n",
       "      <td>0.699766</td>\n",
       "      <td>0.724704</td>\n",
       "      <td>0.213951</td>\n",
       "    </tr>\n",
       "    <tr>\n",
       "      <th>BUI</th>\n",
       "      <td>0.451394</td>\n",
       "      <td>-0.384972</td>\n",
       "      <td>0.023039</td>\n",
       "      <td>-0.380291</td>\n",
       "      <td>0.608848</td>\n",
       "      <td>0.983223</td>\n",
       "      <td>0.943997</td>\n",
       "      <td>0.699766</td>\n",
       "      <td>1.000000</td>\n",
       "      <td>0.633913</td>\n",
       "      <td>0.057597</td>\n",
       "    </tr>\n",
       "    <tr>\n",
       "      <th>Classes</th>\n",
       "      <td>0.533743</td>\n",
       "      <td>-0.403462</td>\n",
       "      <td>-0.056352</td>\n",
       "      <td>-0.490496</td>\n",
       "      <td>0.745355</td>\n",
       "      <td>0.634162</td>\n",
       "      <td>0.590418</td>\n",
       "      <td>0.724704</td>\n",
       "      <td>0.633913</td>\n",
       "      <td>1.000000</td>\n",
       "      <td>0.084417</td>\n",
       "    </tr>\n",
       "    <tr>\n",
       "      <th>Region</th>\n",
       "      <td>0.335827</td>\n",
       "      <td>-0.417689</td>\n",
       "      <td>-0.045715</td>\n",
       "      <td>0.201667</td>\n",
       "      <td>0.141868</td>\n",
       "      <td>0.154087</td>\n",
       "      <td>-0.099772</td>\n",
       "      <td>0.213951</td>\n",
       "      <td>0.057597</td>\n",
       "      <td>0.084417</td>\n",
       "      <td>1.000000</td>\n",
       "    </tr>\n",
       "  </tbody>\n",
       "</table>\n",
       "</div>"
      ],
      "text/plain": [
       "             Temperature        RH        Ws      Rain      FFMC       DMC  \\\n",
       "Temperature     1.000000 -0.624783 -0.378234 -0.229281  0.588456  0.481973   \n",
       "RH             -0.624783  1.000000  0.269477  0.150634 -0.659965 -0.448556   \n",
       "Ws             -0.378234  0.269477  1.000000 -0.074499 -0.178704 -0.000262   \n",
       "Rain           -0.229281  0.150634 -0.074499  1.000000 -0.532842 -0.369544   \n",
       "FFMC            0.588456 -0.659965 -0.178704 -0.532842  1.000000  0.627707   \n",
       "DMC             0.481973 -0.448556 -0.000262 -0.369544  0.627707  1.000000   \n",
       "DC              0.360609 -0.256203  0.068924 -0.370496  0.521588  0.870887   \n",
       "ISI             0.603038 -0.659410 -0.022251 -0.413393  0.726708  0.762184   \n",
       "BUI             0.451394 -0.384972  0.023039 -0.380291  0.608848  0.983223   \n",
       "Classes         0.533743 -0.403462 -0.056352 -0.490496  0.745355  0.634162   \n",
       "Region          0.335827 -0.417689 -0.045715  0.201667  0.141868  0.154087   \n",
       "\n",
       "                   DC       ISI       BUI   Classes    Region  \n",
       "Temperature  0.360609  0.603038  0.451394  0.533743  0.335827  \n",
       "RH          -0.256203 -0.659410 -0.384972 -0.403462 -0.417689  \n",
       "Ws           0.068924 -0.022251  0.023039 -0.056352 -0.045715  \n",
       "Rain        -0.370496 -0.413393 -0.380291 -0.490496  0.201667  \n",
       "FFMC         0.521588  0.726708  0.608848  0.745355  0.141868  \n",
       "DMC          0.870887  0.762184  0.983223  0.634162  0.154087  \n",
       "DC           1.000000  0.540966  0.943997  0.590418 -0.099772  \n",
       "ISI          0.540966  1.000000  0.699766  0.724704  0.213951  \n",
       "BUI          0.943997  0.699766  1.000000  0.633913  0.057597  \n",
       "Classes      0.590418  0.724704  0.633913  1.000000  0.084417  \n",
       "Region      -0.099772  0.213951  0.057597  0.084417  1.000000  "
      ]
     },
     "execution_count": 42,
     "metadata": {},
     "output_type": "execute_result"
    }
   ],
   "source": [
    "#Feature selection bsed on correlation \n",
    "X_test.corr()\n"
   ]
  },
  {
   "cell_type": "code",
   "execution_count": 43,
   "metadata": {},
   "outputs": [
    {
     "data": {
      "text/plain": [
       "<Axes: >"
      ]
     },
     "execution_count": 43,
     "metadata": {},
     "output_type": "execute_result"
    },
    {
     "data": {
      "image/png": "[encoded data removed]",
      "text/plain": [
       "<Figure size 1200x1000 with 2 Axes>"
      ]
     },
     "metadata": {},
     "output_type": "display_data"
    }
   ],
   "source": [
    "#check for multicolinearity\n",
    "\n",
    "plt.figure(figsize=(12,10))\n",
    "corr = X_train.corr()\n",
    "sns.heatmap(corr,annot=True)\n"
   ]
  },
  {
   "cell_type": "code",
   "execution_count": 44,
   "metadata": {},
   "outputs": [],
   "source": [
    "def correlation(dataset, threshold):\n",
    "    col_corr = set()\n",
    "    corr_matrix = dataset.corr()\n",
    "    for i in range(len(corr_matrix.columns)):\n",
    "        for j in range(i):\n",
    "            if abs(corr_matrix.iloc[i, j]) > threshold: \n",
    "                colname = corr_matrix.columns[i]\n",
    "                col_corr.add(colname)\n",
    "    return col_corr"
   ]
  },
  {
   "cell_type": "code",
   "execution_count": 45,
   "metadata": {},
   "outputs": [],
   "source": [
    "\n",
    "## threshold--Domain expertise\n",
    "corr_features=correlation(X_train,0.85)"
   ]
  },
  {
   "cell_type": "code",
   "execution_count": 46,
   "metadata": {},
   "outputs": [
    {
     "data": {
      "text/plain": [
       "((183, 9), (61, 9))"
      ]
     },
     "execution_count": 46,
     "metadata": {},
     "output_type": "execute_result"
    }
   ],
   "source": [
    "#drop the feature when correlaton is more than 0.85\n",
    "X_train.drop(corr_features,axis=1,inplace=True)\n",
    "\n",
    "X_test.drop(corr_features,axis=1,inplace=True)\n",
    "X_train.shape,X_test.shape"
   ]
  },
  {
   "cell_type": "markdown",
   "metadata": {},
   "source": [
    "Feature scaling or Standardization "
   ]
  },
  {
   "cell_type": "code",
   "execution_count": 47,
   "metadata": {},
   "outputs": [],
   "source": [
    "from sklearn.preprocessing import StandardScaler\n",
    "scaler=StandardScaler()\n",
    "X_train_scaled=scaler.fit_transform(X_train)\n",
    "X_test_scaled=scaler.transform(X_test)"
   ]
  },
  {
   "cell_type": "code",
   "execution_count": 55,
   "metadata": {},
   "outputs": [
    {
     "data": {
      "text/plain": [
       "array([[-0.64393998,  0.17761838,  1.2063152 , ..., -0.78605505,\n",
       "        -1.14736903, -1.00547949],\n",
       "       [ 0.95158636, -0.40980626,  0.1747466 , ...,  0.83114678,\n",
       "         0.87155917,  0.99455037],\n",
       "       [-0.18807531,  0.63450421, -0.51296581, ..., -0.23089621,\n",
       "         0.87155917,  0.99455037],\n",
       "       ...,\n",
       "       [-1.55566932,  0.89558183,  0.5186028 , ..., -1.09984047,\n",
       "        -1.14736903, -1.00547949],\n",
       "       [ 0.26778936, -0.34453686,  0.1747466 , ...,  0.46908667,\n",
       "         0.87155917,  0.99455037],\n",
       "       [-0.41600765,  0.96085123,  1.89402761, ..., -0.88260441,\n",
       "        -1.14736903, -1.00547949]])"
      ]
     },
     "execution_count": 55,
     "metadata": {},
     "output_type": "execute_result"
    }
   ],
   "source": [
    "\n",
    "X_train_scaled\n"
   ]
  },
  {
   "cell_type": "code",
   "execution_count": 49,
   "metadata": {},
   "outputs": [
    {
     "data": {
      "text/plain": [
       "Text(0.5, 1.0, 'X_train After Scaling')"
      ]
     },
     "execution_count": 49,
     "metadata": {},
     "output_type": "execute_result"
    },
    {
     "data": {
      "image/png": "[encoded data removed]",
      "text/plain": [
       "<Figure size 1500x500 with 3 Axes>"
      ]
     },
     "metadata": {},
     "output_type": "display_data"
    }
   ],
   "source": [
    "plt.subplots(figsize=(15, 5))\n",
    "plt.subplot(1, 2, 1)\n",
    "sns.boxplot(data=X_train)\n",
    "plt.title('X_train Before Scaling')\n",
    "plt.subplot(1, 2, 2)\n",
    "sns.boxplot(data=X_train_scaled)\n",
    "plt.title('X_train After Scaling')"
   ]
  },
  {
   "cell_type": "code",
   "execution_count": 65,
   "metadata": {},
   "outputs": [
    {
     "name": "stdout",
     "output_type": "stream",
     "text": [
      "False\n"
     ]
    }
   ],
   "source": [
    "print(np.any(np.isnan(X_test)))  # Check for NaNs after scaling\n"
   ]
  },
  {
   "cell_type": "code",
   "execution_count": 62,
   "metadata": {},
   "outputs": [
    {
     "name": "stdout",
     "output_type": "stream",
     "text": [
      "[[-0.18807531  0.11234897 -0.16910961 -0.38101065  0.62495847 -0.04597897\n",
      "   0.22771326  0.87155917 -1.00547949]\n",
      " [ 0.26778936 -0.54034507 -0.85682201 -0.38101065  0.7283983  -0.38998609\n",
      "   0.39667465  0.87155917 -1.00547949]\n",
      " [-0.87187232 -0.27926745  0.862459    0.60577243 -0.96111899 -0.92599717\n",
      "  -0.85846707 -1.14736903  0.99455037]\n",
      " [ 0.72365402 -0.60561447  0.5186028  -0.15674177  0.17671919  0.47403178\n",
      "  -0.49640696  0.87155917  0.99455037]\n",
      " [ 1.8633157  -1.38884733 -1.88839062 -0.33615687  0.99044588  0.62603493\n",
      "   1.14493221  0.87155917  0.99455037]\n",
      " [ 1.63538336  0.11234897 -2.23224683  0.15723467 -0.2646241  -0.24598311\n",
      "  -0.88260441 -1.14736903  0.99455037]\n",
      " [ 1.63538336 -1.51938614 -0.16910961 -0.2913031   0.80425418  0.08202367\n",
      "   0.83114678  0.87155917  0.99455037]\n",
      " [-0.41600765  0.69977362 -0.85682201  1.41314041 -1.5127981  -0.965998\n",
      "  -1.00329111 -1.14736903  0.99455037]\n",
      " [-0.87187232  1.09139004 -1.20067822 -0.38101065 -0.30600004 -0.42198675\n",
      "  -0.83432973 -1.14736903 -1.00547949]\n",
      " [ 0.26778936  0.69977362 -1.20067822  0.42635733 -1.22316657 -1.00599883\n",
      "  -0.97915377 -1.14736903 -1.00547949]\n",
      " [-0.87187232  0.89558183  1.89402761 -0.38101065 -0.34737597 -0.62199089\n",
      "  -0.97915377 -1.14736903 -1.00547949]\n",
      " [ 0.49572169 -0.27926745 -0.85682201 -0.2913031   0.12844727  0.31402847\n",
      "  -0.641231   -1.14736903  0.99455037]\n",
      " [-0.18807531 -0.54034507 -1.54453442 -0.38101065  0.30084699 -0.70199254\n",
      "  -0.54468164 -1.14736903 -1.00547949]\n",
      " [ 0.72365402 -0.27926745 -1.88839062 -0.2913031   0.0456954  -0.3179846\n",
      "  -0.7619177  -1.14736903  0.99455037]\n",
      " [ 0.95158636 -0.47507567  0.862459   -0.38101065  0.79046221  1.49805296\n",
      "   1.24148157  0.87155917 -1.00547949]\n",
      " [ 0.72365402  0.37342659  0.1747466  -0.38101065  0.52841463 -0.38198592\n",
      "   0.03461454  0.87155917  0.99455037]\n",
      " [ 1.17951869 -1.64992495 -0.51296581 -0.38101065  1.14905363  1.69005693\n",
      "   2.71385935  0.87155917  0.99455037]\n",
      " [-0.64393998  1.74408409 -0.85682201 -0.06703422 -2.86441194 -1.04599966\n",
      "  -1.14811516 -1.14736903 -1.00547949]\n",
      " [ 0.03985702  0.83031242 -0.51296581 -0.38101065  0.6042705  -0.14198096\n",
      "   0.10702656  0.87155917 -1.00547949]\n",
      " [-0.18807531  0.63450421 -0.51296581 -0.2913031  -1.2024786  -0.87799618\n",
      "  -0.95501643 -1.14736903  0.99455037]\n",
      " [ 0.26778936  1.02612064  0.5186028  -0.38101065  0.1698232  -0.81399486\n",
      "  -0.49640696 -1.14736903 -1.00547949]\n",
      " [-0.41600765  1.15665945  0.1747466  -0.20159554 -1.23006256 -0.90999684\n",
      "  -0.93087909 -1.14736903 -1.00547949]\n",
      " [ 0.03985702 -0.86669209 -1.54453442 -0.38101065  0.81115017 -0.39798625\n",
      "   0.49322401  0.87155917 -1.00547949]\n",
      " [-0.64393998  0.37342659  1.2063152   0.06752711 -1.22316657 -0.98199833\n",
      "  -0.88260441 -1.14736903 -1.00547949]\n",
      " [ 1.40745103 -1.78046376 -0.16910961 -0.38101065  1.11457369  0.65803559\n",
      "   2.64144733  0.87155917  0.99455037]\n",
      " [-1.32773699  1.15665945  0.1747466   0.42635733 -2.08516518 -0.94999767\n",
      "  -1.07570313 -1.14736903 -1.00547949]\n",
      " [-0.18807531  0.17761838 -0.51296581 -0.38101065  0.47324671 -0.18198179\n",
      "  -0.18262153  0.87155917 -1.00547949]\n",
      " [ 0.72365402  0.04707957 -0.16910961 -0.38101065  0.64564644  0.33802897\n",
      "   0.27598794  0.87155917 -1.00547949]\n",
      " [ 1.40745103 -1.25830852 -0.85682201 -0.15674177  0.50772666 -0.14198096\n",
      "  -0.15848419  0.87155917  0.99455037]\n",
      " [ 0.49572169 -0.27926745  0.862459   -0.38101065  0.71460633 -0.09397997\n",
      "   0.7828721   0.87155917  0.99455037]\n",
      " [-0.18807531 -0.47507567 -1.54453442 -0.38101065  0.70081435  0.13802483\n",
      "   0.15530124  0.87155917 -1.00547949]\n",
      " [-0.41600765 -0.27926745 -1.20067822  1.45799418 -0.79561525 -0.86199585\n",
      "  -0.90674175 -1.14736903  0.99455037]\n",
      " [-0.18807531  0.11234897  0.862459   -0.38101065  0.63185446  0.24202698\n",
      "   0.46908667  0.87155917 -1.00547949]\n",
      " [ 0.72365402  0.11234897  0.5186028  -0.38101065  0.65943842  1.37005031\n",
      "   0.49322401  0.87155917 -1.00547949]\n",
      " [-0.18807531 -0.47507567  0.1747466  -0.33615687  0.15603122 -0.82199502\n",
      "  -0.54468164 -1.14736903 -1.00547949]\n",
      " [ 0.03985702 -0.9972309  -0.51296581 -0.06703422 -0.00947251 -0.61399072\n",
      "  -0.71364302 -1.14736903 -1.00547949]\n",
      " [-0.64393998  0.76504302  1.2063152  -0.33615687 -0.12670432 -0.89399651\n",
      "  -0.641231   -1.14736903 -1.00547949]\n",
      " [ 0.72365402 -1.06250031 -0.85682201 -0.24644932  0.43187078  0.17002549\n",
      "  -0.30330823  0.87155917  0.99455037]\n",
      " [-0.18807531  0.438696    0.5186028   1.72711684 -1.06455882 -0.86999602\n",
      "  -0.88260441 -1.14736903  0.99455037]\n",
      " [-1.09980465  1.61354528  4.64487724 -0.15674177 -2.18860502 -0.90199668\n",
      "  -1.05156579 -1.14736903  0.99455037]\n",
      " [ 0.95158636 -0.47507567 -0.85682201 -0.24644932  0.32843095  0.06602334\n",
      "  -0.25503355  0.87155917 -1.00547949]\n",
      " [ 0.03985702 -0.14872864 -0.51296581 -0.2913031  -0.03705647 -0.70199254\n",
      "  -0.71364302 -1.14736903  0.99455037]\n",
      " [-0.18807531 -0.80142269  1.2063152  -0.11188799  0.01121545 -0.33398493\n",
      "  -0.56881898 -1.14736903 -1.00547949]\n",
      " [-0.41600765  1.74408409  0.1747466  -0.11188799 -2.78166007 -1.09400065\n",
      "  -1.14811516 -1.14736903 -1.00547949]\n",
      " [ 1.17951869 -1.45411673 -0.85682201 -0.38101065  0.9835499   0.60203443\n",
      "   1.45871764  0.87155917  0.99455037]\n",
      " [ 0.03985702  0.438696    0.1747466  -0.38101065  0.61116649  0.05802318\n",
      "   0.17943858  0.87155917 -1.00547949]\n",
      " [ 0.03985702  1.22192885  0.5186028  -0.38101065  0.4801427   0.50603244\n",
      "  -0.01366014  0.87155917  0.99455037]\n",
      " [ 0.03985702  0.37342659 -0.51296581  0.24694222 -0.76113531 -0.56598973\n",
      "  -0.88260441 -1.14736903 -1.00547949]\n",
      " [ 0.72365402 -1.84573316  0.1747466  -0.2913031   0.73529429  0.17002549\n",
      "   0.6621854   0.87155917  0.99455037]\n",
      " [ 0.03985702 -0.73615328 -0.85682201 -0.38101065  0.76287825  0.09802401\n",
      "   0.51736135  0.87155917  0.99455037]\n",
      " [ 0.26778936 -1.64992495  0.1747466  -0.38101065  1.00423786  3.72209896\n",
      "   2.01387647  0.87155917  0.99455037]\n",
      " [-0.64393998  0.83031242  0.1747466  -0.38101065  0.21809512 -0.90999684\n",
      "  -0.47226962  0.87155917 -1.00547949]\n",
      " [-0.18807531  1.35246766  0.5186028  -0.38101065  0.47324671  0.37002963\n",
      "  -0.01366014  0.87155917  0.99455037]\n",
      " [ 0.49572169  0.11234897 -0.51296581 -0.38101065  0.77667023  2.05806454\n",
      "   1.02424551  0.87155917 -1.00547949]\n",
      " [ 0.95158636 -0.60561447  1.2063152  -0.38101065  0.79735819  0.18602583\n",
      "   1.26561891  0.87155917 -1.00547949]\n",
      " [-0.18807531  1.02612064  0.862459   -0.38101065  0.56289457  2.46607298\n",
      "  -0.01366014  0.87155917 -1.00547949]\n",
      " [ 0.95158636 -2.17208018  0.862459   -0.38101065  1.12146967  1.98606305\n",
      "   3.31729287  0.87155917  0.99455037]\n",
      " [-1.78360166 -0.54034507  0.862459   -0.33615687  0.14223924 -0.83799535\n",
      "  -0.73778036 -1.14736903  0.99455037]\n",
      " [ 0.49572169 -1.32357792 -0.16910961  0.38150355  0.14223924 -0.22198261\n",
      "  -0.61709366 -1.14736903  0.99455037]\n",
      " [ 0.95158636 -1.91100256 -0.85682201 -0.33615687  0.89390204  0.88204022\n",
      "   1.02424551  0.87155917  0.99455037]\n",
      " [ 0.49572169 -0.40980626  0.5186028  -0.33615687  0.48703869 -0.40598642\n",
      "  -0.01366014  0.87155917  0.99455037]]\n"
     ]
    }
   ],
   "source": []
  },
  {
   "cell_type": "markdown",
   "metadata": {},
   "source": [
    "Linear Regression Model"
   ]
  },
  {
   "cell_type": "code",
   "execution_count": 71,
   "metadata": {},
   "outputs": [
    {
     "name": "stdout",
     "output_type": "stream",
     "text": [
      "mean absolute error 0.05333813003375054\n",
      "R2 score 0.9999955196872176\n"
     ]
    },
    {
     "data": {
      "text/plain": [
       "<matplotlib.collections.PathCollection at 0x15098e6f0>"
      ]
     },
     "execution_count": 71,
     "metadata": {},
     "output_type": "execute_result"
    },
    {
     "data": {
      "image/png": "[encoded data removed]",
      "text/plain": [
       "<Figure size 640x480 with 1 Axes>"
      ]
     },
     "metadata": {},
     "output_type": "display_data"
    }
   ],
   "source": [
    "from sklearn.linear_model import LinearRegression\n",
    "from sklearn.metrics import mean_absolute_error\n",
    "from sklearn.metrics import r2_score\n",
    "\n",
    "linreg = LinearRegression()\n",
    "linreg.fit(X_train_scaled,y_train)\n",
    "y_pred = linreg.predict(X_test)\n",
    "mae = mean_absolute_error(y_test,y_pred)\n",
    "Score = r2_score(y_test,y_pred)\n",
    "print(\"mean absolute error\",mae)\n",
    "print(\"R2 score\",Score)\n",
    "\n",
    "plt.scatter(y_test,y_pred)\n"
   ]
  },
  {
   "cell_type": "code",
   "execution_count": 73,
   "metadata": {},
   "outputs": [
    {
     "name": "stdout",
     "output_type": "stream",
     "text": [
      "Mean absolute error 2.0551186504274748\n",
      "R2 Score 0.9949981332306371\n"
     ]
    },
    {
     "data": {
      "text/plain": [
       "<matplotlib.collections.PathCollection at 0x150f38950>"
      ]
     },
     "execution_count": 73,
     "metadata": {},
     "output_type": "execute_result"
    },
    {
     "data": {
      "image/png": "[encoded data removed]",
      "text/plain": [
       "<Figure size 640x480 with 1 Axes>"
      ]
     },
     "metadata": {},
     "output_type": "display_data"
    }
   ],
   "source": [
    "#Lasso \n",
    "from sklearn.linear_model import Lasso\n",
    "from sklearn.metrics import mean_absolute_error\n",
    "from sklearn.metrics import r2_score\n",
    "lasso=Lasso()\n",
    "lasso.fit(X_train_scaled,y_train)\n",
    "y_pred=lasso.predict(X_test)\n",
    "mae=mean_absolute_error(y_test,y_pred)\n",
    "score=r2_score(y_test,y_pred)\n",
    "print(\"Mean absolute error\", mae)\n",
    "print(\"R2 Score\", score)\n",
    "plt.scatter(y_test,y_pred)"
   ]
  },
  {
   "cell_type": "code",
   "execution_count": 75,
   "metadata": {},
   "outputs": [
    {
     "name": "stdout",
     "output_type": "stream",
     "text": [
      "Mean absolute error 0.4441841548831345\n",
      "R2 Score 0.999739700710299\n"
     ]
    },
    {
     "data": {
      "text/plain": [
       "<matplotlib.collections.PathCollection at 0x150f8cf20>"
      ]
     },
     "execution_count": 75,
     "metadata": {},
     "output_type": "execute_result"
    },
    {
     "data": {
      "image/png": "[encoded data removed]",
      "text/plain": [
       "<Figure size 640x480 with 1 Axes>"
      ]
     },
     "metadata": {},
     "output_type": "display_data"
    }
   ],
   "source": [
    "#Ridge\n",
    "from sklearn.linear_model import Ridge\n",
    "from sklearn.metrics import mean_absolute_error\n",
    "from sklearn.metrics import r2_score\n",
    "ridge=Ridge()\n",
    "ridge.fit(X_train_scaled,y_train)\n",
    "y_pred=ridge.predict(X_test)\n",
    "mae=mean_absolute_error(y_test,y_pred)\n",
    "score=r2_score(y_test,y_pred)\n",
    "print(\"Mean absolute error\", mae)\n",
    "print(\"R2 Score\", score)\n",
    "plt.scatter(y_test,y_pred)"
   ]
  },
  {
   "cell_type": "code",
   "execution_count": 77,
   "metadata": {},
   "outputs": [
    {
     "name": "stdout",
     "output_type": "stream",
     "text": [
      "Mean absolute error 10.883662571458357\n",
      "R2 Score 0.8452839598739226\n"
     ]
    },
    {
     "data": {
      "text/plain": [
       "<matplotlib.collections.PathCollection at 0x1512ef8f0>"
      ]
     },
     "execution_count": 77,
     "metadata": {},
     "output_type": "execute_result"
    },
    {
     "data": {
      "image/png": "[encoded data removed]",
      "text/plain": [
       "<Figure size 640x480 with 1 Axes>"
      ]
     },
     "metadata": {},
     "output_type": "display_data"
    }
   ],
   "source": [
    "#Elastic\n",
    "from sklearn.linear_model import ElasticNet\n",
    "from sklearn.metrics import mean_absolute_error\n",
    "from sklearn.metrics import r2_score\n",
    "elastic=ElasticNet()\n",
    "elastic.fit(X_train_scaled,y_train)\n",
    "y_pred=elastic.predict(X_test)\n",
    "mae=mean_absolute_error(y_test,y_pred)\n",
    "score=r2_score(y_test,y_pred)\n",
    "print(\"Mean absolute error\", mae)\n",
    "print(\"R2 Score\", score)\n",
    "plt.scatter(y_test,y_pred)"
   ]
  },
  {
   "cell_type": "markdown",
   "metadata": {},
   "source": [
    "cross validatiion Lasso"
   ]
  },
  {
   "cell_type": "code",
   "execution_count": 78,
   "metadata": {},
   "outputs": [
    {
     "name": "stdout",
     "output_type": "stream",
     "text": [
      "Mean absolute error 2.0551186504274748\n",
      "R2 Score 0.9949981332306371\n"
     ]
    },
    {
     "data": {
      "text/plain": [
       "<matplotlib.collections.PathCollection at 0x150f8a630>"
      ]
     },
     "execution_count": 78,
     "metadata": {},
     "output_type": "execute_result"
    },
    {
     "data": {
      "image/png": "[encoded data removed]",
      "text/plain": [
       "<Figure size 640x480 with 1 Axes>"
      ]
     },
     "metadata": {},
     "output_type": "display_data"
    }
   ],
   "source": [
    "from sklearn.linear_model import Lasso\n",
    "from sklearn.metrics import mean_absolute_error\n",
    "from sklearn.metrics import r2_score\n",
    "lasso=Lasso()\n",
    "lasso.fit(X_train_scaled,y_train)\n",
    "y_pred=lasso.predict(X_test)\n",
    "mae=mean_absolute_error(y_test,y_pred)\n",
    "score=r2_score(y_test,y_pred)\n",
    "print(\"Mean absolute error\", mae)\n",
    "print(\"R2 Score\", score)\n",
    "plt.scatter(y_test,y_pred)"
   ]
  }
 ],
 "metadata": {
  "kernelspec": {
   "display_name": "venv",
   "language": "python",
   "name": "python3"
  },
  "language_info": {
   "codemirror_mode": {
    "name": "ipython",
    "version": 3
   },
   "file_extension": ".py",
   "mimetype": "text/x-python",
   "name": "python",
   "nbconvert_exporter": "python",
   "pygments_lexer": "ipython3",
   "version": "3.12.3"
  }
 },
 "nbformat": 4,
 "nbformat_minor": 2
}
