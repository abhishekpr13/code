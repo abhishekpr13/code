{
 "cells": [
  {
   "cell_type": "code",
   "execution_count": 4,
   "metadata": {},
   "outputs": [
    {
     "name": "stdout",
     "output_type": "stream",
     "text": [
      "[0, 1, 2, 3, 4, 5, 6, 7, 8, 9] [0, 1, 2, 3, 4, 5, 6, 7, 8, 9]\n"
     ]
    }
   ],
   "source": [
    "import random\n",
    "nr = 10\n",
    "nc = 10\n",
    "row = list(range(0,nr))\n",
    "col = list(range(0,nc))\n",
    "print(row,col)"
   ]
  },
  {
   "cell_type": "code",
   "execution_count": 6,
   "metadata": {},
   "outputs": [
    {
     "name": "stdout",
     "output_type": "stream",
     "text": [
      "[0, 1, 2, 3, 4, 5, 6, 7, 8, 9] [0, 1, 2, 3, 4, 5, 6, 7, 8, 9]\n",
      "[(6, 6), (0, 3), (3, 7), (4, 4), (7, 8), (9, 0), (5, 5), (1, 1), (2, 9), (8, 2)]\n"
     ]
    }
   ],
   "source": [
    "import random\n",
    "\n",
    "nr = 10\n",
    "nc = 10\n",
    "rows = list(range(nr))\n",
    "cols = list(range(nc))\n",
    "print(rows, cols)\n",
    "\n",
    "pits = []\n",
    "while len(rows) > 0 and len(cols) > 0:\n",
    "    if len(rows) > 0:\n",
    "        row = random.choice(rows)\n",
    "        rows.remove(row)\n",
    "        \n",
    "    if len(cols) > 0:\n",
    "        col = random.choice(cols)\n",
    "        cols.remove(col)\n",
    "        \n",
    "    pits.append((row, col))\n",
    "\n",
    "print(pits)\n"
   ]
  },
  {
   "cell_type": "code",
   "execution_count": null,
   "metadata": {},
   "outputs": [],
   "source": [
    "\n",
    "rows = 0\n",
    "col = random.choice([0,1,2,3,4,5,6,7,8,9])\n",
    "nsteps = 0\n",
    "steps =[]\n",
    "\n",
    "\n",
    "\n"
   ]
  },
  {
   "cell_type": "code",
   "execution_count": 7,
   "metadata": {},
   "outputs": [
    {
     "ename": "SyntaxError",
     "evalue": "incomplete input (1894629910.py, line 10)",
     "output_type": "error",
     "traceback": [
      "\u001b[0;36m  Cell \u001b[0;32mIn[7], line 10\u001b[0;36m\u001b[0m\n\u001b[0;31m    while path(pitchs):\u001b[0m\n\u001b[0m                       ^\u001b[0m\n\u001b[0;31mSyntaxError\u001b[0m\u001b[0;31m:\u001b[0m incomplete input\n"
     ]
    }
   ],
   "source": [
    "#Average number of death\n",
    "\n",
    "from tqdm import tqdm\n",
    "\n",
    "total_deaths = []\n",
    "\n",
    "for i in tqdm(range(10000)):\n",
    "    pits = crete_pitch()\n",
    "    deaths = 0\n",
    "    while path(pits) == \"Marrio Died\":\n",
    "        deaths+=1\n",
    "    total_deaths.append(deaths)\n",
    "return deaths \n"
   ]
  },
  {
   "cell_type": "code",
   "execution_count": null,
   "metadata": {},
   "outputs": [],
   "source": []
  }
 ],
 "metadata": {
  "kernelspec": {
   "display_name": "venv",
   "language": "python",
   "name": "python3"
  },
  "language_info": {
   "codemirror_mode": {
    "name": "ipython",
    "version": 3
   },
   "file_extension": ".py",
   "mimetype": "text/x-python",
   "name": "python",
   "nbconvert_exporter": "python",
   "pygments_lexer": "ipython3",
   "version": "3.12.3"
  }
 },
 "nbformat": 4,
 "nbformat_minor": 2
}
