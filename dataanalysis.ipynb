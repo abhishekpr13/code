{
 "cells": [
  {
   "cell_type": "code",
   "execution_count": 4,
   "metadata": {},
   "outputs": [],
   "source": [
    "import numpy as np\n"
   ]
  },
  {
   "cell_type": "code",
   "execution_count": 10,
   "metadata": {},
   "outputs": [
    {
     "name": "stdout",
     "output_type": "stream",
     "text": [
      "[[ 5  8  2  3 12]\n",
      " [ 8 18 13 16 12]\n",
      " [ 8  7  1 18  4]\n",
      " [ 2  8  4 15 11]\n",
      " [12 15  9 15 11]]\n",
      "[[ 5  8  1  3 12]\n",
      " [ 8 18  1 16 12]\n",
      " [ 8  7  1 18  4]\n",
      " [ 2  8  1 15 11]\n",
      " [12 15  1 15 11]]\n"
     ]
    }
   ],
   "source": [
    "array = np.random.randint(1,21,size=(5,5))\n",
    "print(array)\n",
    "#modified array\n",
    "array[:,2] =1\n",
    "print(array)"
   ]
  },
  {
   "cell_type": "code",
   "execution_count": 18,
   "metadata": {},
   "outputs": [
    {
     "name": "stdout",
     "output_type": "stream",
     "text": [
      "[[ 1  2  3  4]\n",
      " [ 5  6  7  8]\n",
      " [ 9 10 11 12]\n",
      " [13 14 15 16]]\n",
      "[[ 0  2  3  4]\n",
      " [ 5  0  7  8]\n",
      " [ 9 10  0 12]\n",
      " [13 14 15  0]]\n"
     ]
    }
   ],
   "source": [
    "array = np.arange(1,17).reshape(4,4)\n",
    "print(array)\n",
    "np.fill_diagonal(array, 0)\n",
    "print(array)"
   ]
  },
  {
   "cell_type": "code",
   "execution_count": 24,
   "metadata": {},
   "outputs": [
    {
     "name": "stdout",
     "output_type": "stream",
     "text": [
      "[[ 1  2  3  4  5  6]\n",
      " [ 7  8  9 10 11 12]\n",
      " [13 14 15 16 17 18]\n",
      " [19 20 21 22 23 24]\n",
      " [25 26 27 28 29 30]\n",
      " [31 32 33 34 35 36]]\n",
      "[[14 15 16]\n",
      " [20 21 22]\n",
      " [26 27 28]]\n"
     ]
    }
   ],
   "source": [
    "array = np.arange(1,37).reshape(6,6)\n",
    "print(array)\n",
    "\n",
    "sub_array = array[2:5,1:4]\n",
    "print(sub_array)"
   ]
  },
  {
   "cell_type": "code",
   "execution_count": 30,
   "metadata": {},
   "outputs": [
    {
     "name": "stdout",
     "output_type": "stream",
     "text": [
      "[[ 3 17 11 13 10]\n",
      " [16 16 18  4  4]\n",
      " [ 9 15  7  3  5]\n",
      " [12 10  5  3  2]\n",
      " [13 15 17 14 20]]\n",
      "[ 3 17 11 13 10 13 15 17 14 20 16  9 12  4  5  2]\n"
     ]
    }
   ],
   "source": [
    "array = np.random.randint(1,21,size=(5,5))\n",
    "print(array)\n",
    "sub_array = np.concatenate((array[0, :], array[-1, :], array[1:-1, 0], array[1:-1, -1]))\n",
    "print(sub_array)"
   ]
  },
  {
   "cell_type": "code",
   "execution_count": 36,
   "metadata": {},
   "outputs": [
    {
     "name": "stdout",
     "output_type": "stream",
     "text": [
      "[[ 6 11  7  6]\n",
      " [13  9  2 12]\n",
      " [ 2 13  7 11]]\n",
      "[[17  7  9  7]\n",
      " [15  3  6  3]\n",
      " [13  4 13 14]]\n",
      "[[23 18 16 13]\n",
      " [28 12  8 15]\n",
      " [15 17 20 25]]\n",
      "[[-11   4  -2  -1]\n",
      " [ -2   6  -4   9]\n",
      " [-11   9  -6  -3]]\n",
      "[[102  77  63  42]\n",
      " [195  27  12  36]\n",
      " [ 26  52  91 154]]\n",
      "[[2.83333333 0.63636364 1.28571429 1.16666667]\n",
      " [1.15384615 0.33333333 3.         0.25      ]\n",
      " [6.5        0.30769231 1.85714286 1.27272727]]\n"
     ]
    }
   ],
   "source": [
    "array1 = np.random.randint(1,15,size=(3,4))\n",
    "array2 = np.random.randint(1,18,size=(3,4))\n",
    "\n",
    "sub_array = (array1+array2)\n",
    "sub_array1 = (array1-array2)\n",
    "sub_array2 = (array1*array2)\n",
    "sub_array3 = (array2/array1)\n",
    "print(array1)\n",
    "print(array2)\n",
    "print(sub_array)\n",
    "print(sub_array1)\n",
    "print(sub_array2)\n",
    "print(sub_array3)"
   ]
  },
  {
   "cell_type": "code",
   "execution_count": 41,
   "metadata": {},
   "outputs": [
    {
     "name": "stdout",
     "output_type": "stream",
     "text": [
      "[[ 1  2  3  4]\n",
      " [ 5  6  7  8]\n",
      " [ 9 10 11 12]\n",
      " [13 14 15 16]]\n",
      "[10 26 42 58]\n",
      "[28 32 36 40]\n"
     ]
    }
   ],
   "source": [
    "array = np.arange(1,17).reshape(4,4)\n",
    "print(array)\n",
    "sub_sum = np.sum(array,axis=1)\n",
    "sub_sum1 = np.sum(array,axis=0)\n",
    "print(sub_sum)\n",
    "print(sub_sum1)"
   ]
  },
  {
   "cell_type": "code",
   "execution_count": 43,
   "metadata": {},
   "outputs": [
    {
     "name": "stdout",
     "output_type": "stream",
     "text": [
      "space\n",
      "10.6\n",
      "8.0\n",
      "7.812809993849844\n",
      "61.04\n",
      "space\n",
      "[[ 1  8 10  8  5]\n",
      " [22  2 17  6 20]\n",
      " [19 14 16 23  9]\n",
      " [ 5  3 25  5  1]\n",
      " [14  3  5  1 23]]\n"
     ]
    }
   ],
   "source": [
    "#4\n",
    "array = np.random.randint(1,26,size=(5,5))\n",
    "mean = np.mean(array)\n",
    "median = np.median(array)\n",
    "std = np.std(array)\n",
    "var = np.var(array)\n",
    "print(\"space\")\n",
    "print(mean)\n",
    "print(median)\n",
    "print(std)\n",
    "print(var)\n",
    "print(\"space\")\n",
    "print(array)"
   ]
  },
  {
   "cell_type": "code",
   "execution_count": 46,
   "metadata": {},
   "outputs": [
    {
     "name": "stdout",
     "output_type": "stream",
     "text": [
      "[[-1.54919334 -1.161895   -0.77459667]\n",
      " [-0.38729833  0.          0.38729833]\n",
      " [ 0.77459667  1.161895    1.54919334]]\n"
     ]
    }
   ],
   "source": [
    "array = np.arange(1,10).reshape(3,3)\n",
    "std_dev = np.std(array)\n",
    "mean = np.mean(array)\n",
    "normalized_array = (array - mean) / std_dev\n",
    "print(normalized_array)"
   ]
  },
  {
   "cell_type": "code",
   "execution_count": null,
   "metadata": {},
   "outputs": [],
   "source": []
  },
  {
   "cell_type": "code",
   "execution_count": null,
   "metadata": {},
   "outputs": [],
   "source": []
  }
 ],
 "metadata": {
  "kernelspec": {
   "display_name": "Python 3",
   "language": "python",
   "name": "python3"
  },
  "language_info": {
   "codemirror_mode": {
    "name": "ipython",
    "version": 3
   },
   "file_extension": ".py",
   "mimetype": "text/x-python",
   "name": "python",
   "nbconvert_exporter": "python",
   "pygments_lexer": "ipython3",
   "version": "3.12.0"
  }
 },
 "nbformat": 4,
 "nbformat_minor": 2
}
