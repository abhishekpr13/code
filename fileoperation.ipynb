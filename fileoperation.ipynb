{
 "cells": [
  {
   "cell_type": "code",
   "execution_count": 10,
   "metadata": {},
   "outputs": [
    {
     "name": "stdout",
     "output_type": "stream",
     "text": [
      "Hello how are you ?\n",
      "I am good\n",
      "My name is Abhishek Prakash\n",
      "I am enjoying this couse and i want t thanks Krish for this course and \n",
      "i am greatful for learning so much great experience.\n"
     ]
    }
   ],
   "source": [
    "#Read the Whole File\n",
    "with open('./file-handling/example.txt','r') as file:\n",
    "    content = file.read()\n",
    "    print(content)"
   ]
  },
  {
   "cell_type": "code",
   "execution_count": 11,
   "metadata": {},
   "outputs": [
    {
     "name": "stdout",
     "output_type": "stream",
     "text": [
      "Hello how are you ?\n",
      "I am good\n",
      "My name is Abhishek Prakash\n",
      "I am enjoying this couse and i want t thanks Krish for this course and\n",
      "i am greatful for learning so much great experience.\n"
     ]
    }
   ],
   "source": [
    "#Read a file line by line \n",
    "with open('./file-handling/example.txt','r') as file:\n",
    "    for line in file:\n",
    "        print(line.strip())"
   ]
  },
  {
   "cell_type": "code",
   "execution_count": 25,
   "metadata": {},
   "outputs": [],
   "source": [
    "#writing a file\n",
    "with open('./file-handling/example.txt','w') as file:\n",
    "    file.write('Hello world\\n')\n",
    "    file.write('This is new line')"
   ]
  },
  {
   "cell_type": "code",
   "execution_count": 26,
   "metadata": {},
   "outputs": [],
   "source": [
    "#write a file withou over written\n",
    "with open('./file-handling/example.txt','a') as file:\n",
    "    file.write('\\nAppend operation will take place\\n')"
   ]
  },
  {
   "cell_type": "code",
   "execution_count": 27,
   "metadata": {},
   "outputs": [],
   "source": [
    "#Writing a list of lines to a file\n",
    "lines = ['Firist line\\n','Second line\\n','Third line\\n']\n",
    "with open('./file-handling/example.txt','a') as file:\n",
    "    file.writelines(lines)"
   ]
  },
  {
   "cell_type": "code",
   "execution_count": 21,
   "metadata": {},
   "outputs": [],
   "source": [
    "##Binary File\n",
    "#Writing to a binary file\n",
    "data = b'\\x00\\x01\\x02\\x03\\x04'\n",
    "with open('./file-handling/example.bin','wb') as file:\n",
    "    file.write(data)\n"
   ]
  },
  {
   "cell_type": "code",
   "execution_count": 23,
   "metadata": {},
   "outputs": [
    {
     "name": "stdout",
     "output_type": "stream",
     "text": [
      "b'\\x00\\x01\\x02\\x03\\x04'\n"
     ]
    }
   ],
   "source": [
    "\n",
    "#Reading a Binary File\n",
    "\n",
    "with open('./file-handling/example.bin','rb') as file:\n",
    "    content = file.read()\n",
    "    print(content)\n"
   ]
  },
  {
   "cell_type": "code",
   "execution_count": 24,
   "metadata": {},
   "outputs": [],
   "source": [
    "##Read the content from the source text foiile and write it to destination text file \n",
    "#copying a text file\n",
    "with open('./file-handling/example.txt','r') as source_file:\n",
    "    content = source_file.read()\n",
    "with open('./file-handling/destination.txt','w') as destination_file:\n",
    "    destination_file.write(content)\n",
    "\n"
   ]
  },
  {
   "cell_type": "code",
   "execution_count": null,
   "metadata": {},
   "outputs": [],
   "source": []
  },
  {
   "cell_type": "code",
   "execution_count": null,
   "metadata": {},
   "outputs": [],
   "source": []
  },
  {
   "cell_type": "code",
   "execution_count": null,
   "metadata": {},
   "outputs": [],
   "source": []
  }
 ],
 "metadata": {
  "kernelspec": {
   "display_name": "Python 3",
   "language": "python",
   "name": "python3"
  },
  "language_info": {
   "codemirror_mode": {
    "name": "ipython",
    "version": 3
   },
   "file_extension": ".py",
   "mimetype": "text/x-python",
   "name": "python",
   "nbconvert_exporter": "python",
   "pygments_lexer": "ipython3",
   "version": "3.12.0"
  }
 },
 "nbformat": 4,
 "nbformat_minor": 2
}
