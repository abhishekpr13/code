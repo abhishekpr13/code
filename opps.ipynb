{
 "cells": [
  {
   "cell_type": "code",
   "execution_count": 4,
   "metadata": {},
   "outputs": [
    {
     "name": "stdout",
     "output_type": "stream",
     "text": [
      "<__main__.Dog object at 0x1057782f0>\n",
      "Tinku\n"
     ]
    }
   ],
   "source": [
    "#Instance variable and Methods\n",
    "class Dog:\n",
    "    ##constructor\n",
    "    def __init__(self,name,age):#obj\n",
    "        self.name = name #instance variable\n",
    "        self.age = age\n",
    "dog1 = Dog('Tinku',3)\n",
    "print(dog1)\n",
    "print(dog1.name)"
   ]
  },
  {
   "cell_type": "code",
   "execution_count": 6,
   "metadata": {},
   "outputs": [
    {
     "name": "stdout",
     "output_type": "stream",
     "text": [
      "Tinku says woof\n"
     ]
    }
   ],
   "source": [
    "#Instance variable and Instance Methods\n",
    "class Dog:\n",
    "    ##constructor\n",
    "    def __init__(self,name,age):#obj\n",
    "        self.name = name #instance variable\n",
    "        self.age = age\n",
    "    def bark(self):\n",
    "        print(f\"{self.name} says woof\")\n",
    "dog1 = Dog('Tinku',3)\n",
    "dog1.bark()"
   ]
  },
  {
   "cell_type": "code",
   "execution_count": 10,
   "metadata": {},
   "outputs": [
    {
     "name": "stdout",
     "output_type": "stream",
     "text": [
      "100 is depositied.new palance is 5100 \n"
     ]
    }
   ],
   "source": [
    "##Modeling a banlk account\n",
    "\n",
    "class BankAccount:\n",
    "    def __init__(self,owner,balance = 0):\n",
    "        self.owner = owner\n",
    "        self.balance = balance\n",
    "    def deposite(self,amount):\n",
    "        self.balance+=amount\n",
    "        print(f\"{amount} is depositied.new palance is {self.balance} \")\n",
    "\n",
    "    def withdraw(self,amount):\n",
    "        if amount > self.balance:\n",
    "            print(\"Insuficient funds\")\n",
    "        else:\n",
    "            self.balance -=amount\n",
    "            print(f\"{amount} is withdrawn . new balance is {self.balance}\")\n",
    "account = BankAccount(\"abhi\",5000)\n",
    "account.deposite(100)"
   ]
  },
  {
   "cell_type": "code",
   "execution_count": 17,
   "metadata": {},
   "outputs": [
    {
     "name": "stdout",
     "output_type": "stream",
     "text": [
      "The engine has started.\n"
     ]
    }
   ],
   "source": [
    "class Car:\n",
    "    def __init__(self, make, model, year):\n",
    "        self.make = make\n",
    "        self.model = model\n",
    "        self.year = year\n",
    "\n",
    "    def start_engine(self):\n",
    "        print(\"The engine has started.\")\n",
    "\n",
    "\n",
    "car = Car('Toyota', 'Camry', 2020)\n",
    "car.start_engine()"
   ]
  },
  {
   "cell_type": "code",
   "execution_count": null,
   "metadata": {},
   "outputs": [],
   "source": []
  },
  {
   "cell_type": "markdown",
   "metadata": {},
   "source": [
    "INHERITANCE"
   ]
  },
  {
   "cell_type": "code",
   "execution_count": 19,
   "metadata": {},
   "outputs": [
    {
     "name": "stdout",
     "output_type": "stream",
     "text": [
      "The person will drivepetril car\n"
     ]
    }
   ],
   "source": [
    "#Parent class\n",
    "#single inheritance \n",
    "class car:\n",
    "    def __init__(self,windows,doors,engine):\n",
    "        self.windows = windows\n",
    "        self.doors = doors\n",
    "        self.engine = engine\n",
    "    def drive(self):\n",
    "        print(f\"The person will drive{self.engine} car\")\n",
    "\n",
    "bmw = car(4,4,'petril')\n",
    "bmw.drive()"
   ]
  },
  {
   "cell_type": "code",
   "execution_count": 21,
   "metadata": {},
   "outputs": [
    {
     "name": "stdout",
     "output_type": "stream",
     "text": [
      "tesla is self drivinng: True\n",
      "The person will driveelctric car\n"
     ]
    }
   ],
   "source": [
    "class Tesla(car):\n",
    "    def __init__(self, windows, doors, engine, selfdriving):\n",
    "        super().__init__(windows, doors, engine)\n",
    "        self.selfdriving = selfdriving\n",
    "    def selfdrive(self):\n",
    "        print(f\"tesla is self drivinng: {self.selfdriving}\")\n",
    "tesla1 = Tesla(4,5,\"elctric\",True)\n",
    "\n",
    "tesla1.selfdrive()\n",
    "tesla1.drive()\n"
   ]
  },
  {
   "cell_type": "code",
   "execution_count": null,
   "metadata": {},
   "outputs": [],
   "source": []
  },
  {
   "cell_type": "code",
   "execution_count": null,
   "metadata": {},
   "outputs": [],
   "source": []
  }
 ],
 "metadata": {
  "kernelspec": {
   "display_name": "Python 3",
   "language": "python",
   "name": "python3"
  },
  "language_info": {
   "codemirror_mode": {
    "name": "ipython",
    "version": 3
   },
   "file_extension": ".py",
   "mimetype": "text/x-python",
   "name": "python",
   "nbconvert_exporter": "python",
   "pygments_lexer": "ipython3",
   "version": "3.12.0"
  }
 },
 "nbformat": 4,
 "nbformat_minor": 2
}
