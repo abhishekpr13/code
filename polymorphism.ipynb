{
 "cells": [
  {
   "cell_type": "markdown",
   "metadata": {},
   "source": [
    "Polymorphosim"
   ]
  },
  {
   "cell_type": "markdown",
   "metadata": {},
   "source": [
    "It allows object of different classes to be treated as object of common super class. It provides a way to perform a single action in different form. It achived through method overriding and interfaces."
   ]
  },
  {
   "cell_type": "code",
   "execution_count": 5,
   "metadata": {},
   "outputs": [
    {
     "name": "stdout",
     "output_type": "stream",
     "text": [
      "Woof!\n",
      "meow\n",
      "Woof!\n"
     ]
    }
   ],
   "source": [
    "#Base class\n",
    "class Animal:\n",
    "    def speak(self):\n",
    "        return \"Sounds of Animals\"\n",
    "\n",
    "#derived class-1\n",
    "\n",
    "class Dog(Animal):\n",
    "    def speak(self):\n",
    "        return \"Woof!\"\n",
    "\n",
    "#derived class-2\n",
    "\n",
    "class cat(Animal):\n",
    "    def speak(self):\n",
    "        return \"meow\"\n",
    "\n",
    "# Function that demeonstrate polymorphosim\n",
    "\n",
    "def animal_sprak(animal):\n",
    "    print(animal.speak())\n",
    "\n",
    "dog = Dog()\n",
    "cat1 = cat()\n",
    "\n",
    "print(dog.speak())\n",
    "print (cat1.speak())\n",
    "animal_sprak(dog)\n",
    "\n",
    " \n"
   ]
  },
  {
   "cell_type": "code",
   "execution_count": 8,
   "metadata": {},
   "outputs": [
    {
     "name": "stdout",
     "output_type": "stream",
     "text": [
      "the areais 20\n",
      "the areais 28.259999999999998\n"
     ]
    }
   ],
   "source": [
    "#Polymorphosim with function and Methds\n",
    "# Base class\n",
    "\n",
    "class Shape:\n",
    "    def area(self):\n",
    "        return\"The area of the figure\"\n",
    "    \n",
    "#Derived class 1\n",
    "class Recatangle(Shape):\n",
    "    def __init__(self,width,height):\n",
    "        self.width = width\n",
    "        self.height = height\n",
    "    def area(self):\n",
    "         return self.width * self.height\n",
    "    \n",
    "#Derivied clas 2\n",
    "\n",
    "class Circle(Shape):\n",
    "    def __init__(self,radius):\n",
    "        self.radius = radius\n",
    "    def area(self):\n",
    "        return 3.14*self.radius*self.radius\n",
    "def print_area (shape):\n",
    "    print(f\"the areais {shape.area()}\")\n",
    "\n",
    "rectangele = Recatangle(4,5)\n",
    "circle = Circle(3)\n",
    "print_area(rectangele)\n",
    "\n",
    "print_area(circle)\n",
    "\n",
    "\n"
   ]
  },
  {
   "cell_type": "markdown",
   "metadata": {},
   "source": [
    "ABC "
   ]
  },
  {
   "cell_type": "code",
   "execution_count": null,
   "metadata": {},
   "outputs": [],
   "source": [
    "from abc import ABC,abstractmethod\n",
    "\n",
    "##Define an abstract class\n",
    "class Vehicles(ABC):\n",
    "    @abstractmethod\n",
    "    def start_eng(self):\n",
    "        pass\n",
    "\n",
    "##Derived class 1\n",
    "class Car(Vehicles):\n",
    "    def start_eng(self):\n",
    "        return \"Car engine tarted \"\n",
    "##Derived class 2\n",
    "\n",
    "class Motorcycle(Vehicles):\n",
    "    def start_eng(self):\n",
    "       return \"Motor started\""
   ]
  }
 ],
 "metadata": {
  "kernelspec": {
   "display_name": "Python 3",
   "language": "python",
   "name": "python3"
  },
  "language_info": {
   "codemirror_mode": {
    "name": "ipython",
    "version": 3
   },
   "file_extension": ".py",
   "mimetype": "text/x-python",
   "name": "python",
   "nbconvert_exporter": "python",
   "pygments_lexer": "ipython3",
   "version": "3.12.0"
  }
 },
 "nbformat": 4,
 "nbformat_minor": 2
}
